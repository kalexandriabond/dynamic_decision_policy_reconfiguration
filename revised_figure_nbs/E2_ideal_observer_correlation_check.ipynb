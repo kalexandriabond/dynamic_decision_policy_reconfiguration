{
 "cells": [
  {
   "cell_type": "code",
   "execution_count": 25,
   "metadata": {},
   "outputs": [],
   "source": [
    "import pandas as pd; import matplotlib.pyplot as plt; import seaborn as sns; import os; \n",
    "from sys import platform; import numpy as np; from scipy.stats import spearmanr;\n",
    "\n",
    "from random import seed\n",
    "\n",
    "%matplotlib inline"
   ]
  },
  {
   "cell_type": "code",
   "execution_count": 3,
   "metadata": {},
   "outputs": [],
   "source": [
    "home = os.path.expanduser('/lab_data/coaxlab/Projects'); data_dir = os.path.join(home, 'dynamic_decision_policy_reconfiguration/aggregated_data/loki_0.5')\n",
    "\n",
    "ls_df = pd.read_csv(os.path.join(data_dir, 'av_manifold_df.csv'))"
   ]
  },
  {
   "cell_type": "code",
   "execution_count": 6,
   "metadata": {},
   "outputs": [
    {
     "data": {
      "text/plain": [
       "array([786, 787, 788, 789])"
      ]
     },
     "execution_count": 6,
     "metadata": {},
     "output_type": "execute_result"
    }
   ],
   "source": [
    "ls_df.subj_id.unique()"
   ]
  },
  {
   "cell_type": "code",
   "execution_count": 5,
   "metadata": {},
   "outputs": [
    {
     "name": "stdout",
     "output_type": "stream",
     "text": [
      "   Unnamed: 0  Unnamed: 0.1  Unnamed: 0.1.1       cpp      b_t0      b_t1  \\\n",
      "0           0             0               0  0.076938  1.038488  3.199304   \n",
      "1           1             1               1  0.319389  1.073995  2.636439   \n",
      "2           2             2               2  0.300755  1.210057  1.084931   \n",
      "3           3             3               3  0.365146  1.297258  2.998052   \n",
      "4           4             4               4  0.074485  1.371289  0.931292   \n",
      "\n",
      "         MC       H  signed_B_diff   ideal_B  ...  theta_deg   a_est_z  \\\n",
      "0  0.383517  0.0975       0.000000 -2.160816  ...        NaN       NaN   \n",
      "1  0.604624  0.0975       2.160816 -1.562444  ...        NaN  0.372983   \n",
      "2  0.467104  0.0975       1.562444  0.125126  ...  92.897581 -0.833442   \n",
      "3  0.489297  0.0975      -0.125126 -1.700794  ...  89.920968 -0.740719   \n",
      "4  0.456994  0.0975       1.700794  0.439997  ... -90.252403 -1.061126   \n",
      "\n",
      "    v_est_z  theta_deg_360  theta_deg_abs_180       r_z  theta_radians_z  \\\n",
      "0       NaN            NaN                NaN       NaN              NaN   \n",
      "1 -1.969731            NaN                NaN       NaN              NaN   \n",
      "2 -1.514212     159.314616         159.314616  1.289558         2.780565   \n",
      "3 -0.229528      85.871786          85.871786  1.288026         1.498745   \n",
      "4 -1.619533     257.019606         102.980394  1.426455        -1.797347   \n",
      "\n",
      "   theta_deg_z  theta_deg_360_z  theta_deg_abs_180_z  \n",
      "0          NaN              NaN                  NaN  \n",
      "1          NaN              NaN                  NaN  \n",
      "2   159.314616       159.314616           159.314616  \n",
      "3    85.871786        85.871786            85.871786  \n",
      "4  -102.980394       257.019606           102.980394  \n",
      "\n",
      "[5 rows x 58 columns]\n"
     ]
    },
    {
     "data": {
      "text/plain": [
       "Index([u'Unnamed: 0', u'Unnamed: 0.1', u'Unnamed: 0.1.1', u'cpp', u'b_t0',\n",
       "       u'b_t1', u'MC', u'H', u'signed_B_diff', u'ideal_B', u'lambda_val',\n",
       "       u'p_optimal', u'trial', u'subj_id', u'reward_code', u'condition',\n",
       "       u'run', u'LR_choice', u'value_accuracy', u'value_LR_solution',\n",
       "       u'reward', u'cumulative_reward', u'rt', u'total_trial_time', u'iti',\n",
       "       u'cp_list', u'obs_cp_list', u'high_val_cue', u'high_p_cue',\n",
       "       u'p_accuracy', u'p_LR_solution', u'p_id_solution', u'id_choice',\n",
       "       u'stim_duration', u'stim_onset', u'stim_offset', u'abs_response_time',\n",
       "       u'epoch_length', u'epoch_trial', u'epoch_number',\n",
       "       u'shifted_epoch_trial', u'ideal_B_shifted', u'cpp_shifted', u'a_est',\n",
       "       u'v_est', u'epoch_window_number', u'r', u'theta_radians', u'theta_deg',\n",
       "       u'a_est_z', u'v_est_z', u'theta_deg_360', u'theta_deg_abs_180', u'r_z',\n",
       "       u'theta_radians_z', u'theta_deg_z', u'theta_deg_360_z',\n",
       "       u'theta_deg_abs_180_z'],\n",
       "      dtype='object')"
      ]
     },
     "execution_count": 5,
     "metadata": {},
     "output_type": "execute_result"
    }
   ],
   "source": [
    "print(ls_df.head()); ls_df.columns"
   ]
  },
  {
   "cell_type": "code",
   "execution_count": 7,
   "metadata": {},
   "outputs": [],
   "source": [
    "ls_df_pared = ls_df.loc[(ls_df.shifted_epoch_trial >= -1) & (ls_df.shifted_epoch_trial <= 3)].reset_index(drop=True)"
   ]
  },
  {
   "cell_type": "markdown",
   "metadata": {},
   "source": [
    "## Quantifying the correlation between $\\Delta B$ and $\\Omega$"
   ]
  },
  {
   "cell_type": "code",
   "execution_count": 8,
   "metadata": {},
   "outputs": [
    {
     "data": {
      "text/html": [
       "<div>\n",
       "<style scoped>\n",
       "    .dataframe tbody tr th:only-of-type {\n",
       "        vertical-align: middle;\n",
       "    }\n",
       "\n",
       "    .dataframe tbody tr th {\n",
       "        vertical-align: top;\n",
       "    }\n",
       "\n",
       "    .dataframe thead th {\n",
       "        text-align: right;\n",
       "    }\n",
       "</style>\n",
       "<table border=\"1\" class=\"dataframe\">\n",
       "  <thead>\n",
       "    <tr style=\"text-align: right;\">\n",
       "      <th></th>\n",
       "      <th></th>\n",
       "      <th>ideal_B</th>\n",
       "      <th>cpp</th>\n",
       "    </tr>\n",
       "    <tr>\n",
       "      <th>subj_id</th>\n",
       "      <th></th>\n",
       "      <th></th>\n",
       "      <th></th>\n",
       "    </tr>\n",
       "  </thead>\n",
       "  <tbody>\n",
       "    <tr>\n",
       "      <th rowspan=\"2\" valign=\"top\">786</th>\n",
       "      <th>ideal_B</th>\n",
       "      <td>1.000000</td>\n",
       "      <td>-0.274242</td>\n",
       "    </tr>\n",
       "    <tr>\n",
       "      <th>cpp</th>\n",
       "      <td>-0.274242</td>\n",
       "      <td>1.000000</td>\n",
       "    </tr>\n",
       "    <tr>\n",
       "      <th rowspan=\"2\" valign=\"top\">787</th>\n",
       "      <th>ideal_B</th>\n",
       "      <td>1.000000</td>\n",
       "      <td>-0.247258</td>\n",
       "    </tr>\n",
       "    <tr>\n",
       "      <th>cpp</th>\n",
       "      <td>-0.247258</td>\n",
       "      <td>1.000000</td>\n",
       "    </tr>\n",
       "    <tr>\n",
       "      <th rowspan=\"2\" valign=\"top\">788</th>\n",
       "      <th>ideal_B</th>\n",
       "      <td>1.000000</td>\n",
       "      <td>-0.194763</td>\n",
       "    </tr>\n",
       "    <tr>\n",
       "      <th>cpp</th>\n",
       "      <td>-0.194763</td>\n",
       "      <td>1.000000</td>\n",
       "    </tr>\n",
       "    <tr>\n",
       "      <th rowspan=\"2\" valign=\"top\">789</th>\n",
       "      <th>ideal_B</th>\n",
       "      <td>1.000000</td>\n",
       "      <td>-0.220673</td>\n",
       "    </tr>\n",
       "    <tr>\n",
       "      <th>cpp</th>\n",
       "      <td>-0.220673</td>\n",
       "      <td>1.000000</td>\n",
       "    </tr>\n",
       "  </tbody>\n",
       "</table>\n",
       "</div>"
      ],
      "text/plain": [
       "                  ideal_B       cpp\n",
       "subj_id                            \n",
       "786     ideal_B  1.000000 -0.274242\n",
       "        cpp     -0.274242  1.000000\n",
       "787     ideal_B  1.000000 -0.247258\n",
       "        cpp     -0.247258  1.000000\n",
       "788     ideal_B  1.000000 -0.194763\n",
       "        cpp     -0.194763  1.000000\n",
       "789     ideal_B  1.000000 -0.220673\n",
       "        cpp     -0.220673  1.000000"
      ]
     },
     "execution_count": 8,
     "metadata": {},
     "output_type": "execute_result"
    }
   ],
   "source": [
    "ls_df_pared.groupby(['subj_id'])[['ideal_B', 'cpp']].corr(method='spearman') # subject-wise correlation "
   ]
  },
  {
   "cell_type": "code",
   "execution_count": 9,
   "metadata": {},
   "outputs": [
    {
     "data": {
      "text/html": [
       "<div>\n",
       "<style scoped>\n",
       "    .dataframe tbody tr th:only-of-type {\n",
       "        vertical-align: middle;\n",
       "    }\n",
       "\n",
       "    .dataframe tbody tr th {\n",
       "        vertical-align: top;\n",
       "    }\n",
       "\n",
       "    .dataframe thead th {\n",
       "        text-align: right;\n",
       "    }\n",
       "</style>\n",
       "<table border=\"1\" class=\"dataframe\">\n",
       "  <thead>\n",
       "    <tr style=\"text-align: right;\">\n",
       "      <th></th>\n",
       "      <th>ideal_B</th>\n",
       "      <th>cpp</th>\n",
       "    </tr>\n",
       "  </thead>\n",
       "  <tbody>\n",
       "    <tr>\n",
       "      <th>ideal_B</th>\n",
       "      <td>1.000000</td>\n",
       "      <td>-0.232458</td>\n",
       "    </tr>\n",
       "    <tr>\n",
       "      <th>cpp</th>\n",
       "      <td>-0.232458</td>\n",
       "      <td>1.000000</td>\n",
       "    </tr>\n",
       "  </tbody>\n",
       "</table>\n",
       "</div>"
      ],
      "text/plain": [
       "          ideal_B       cpp\n",
       "ideal_B  1.000000 -0.232458\n",
       "cpp     -0.232458  1.000000"
      ]
     },
     "execution_count": 9,
     "metadata": {},
     "output_type": "execute_result"
    }
   ],
   "source": [
    "ls_df_pared[['ideal_B', 'cpp']].corr(method='spearman') # pooled correlation"
   ]
  },
  {
   "cell_type": "markdown",
   "metadata": {},
   "source": [
    "## An estimate of confidence "
   ]
  },
  {
   "cell_type": "markdown",
   "metadata": {},
   "source": [
    "### percentile bootstrap of the correlations (95% CI)"
   ]
  },
  {
   "cell_type": "code",
   "execution_count": 10,
   "metadata": {},
   "outputs": [],
   "source": [
    "def pairwise_percentile_bootstrap(x, y, n_resamples=1000, func=spearmanr):\n",
    "    \n",
    "    idx = np.arange(len(x))\n",
    "    size = len(idx)\n",
    "    \n",
    "    resampled_x, resampled_y = list(), list()\n",
    "    \n",
    "    resampled_spearman_r = list() \n",
    "    \n",
    "    for n in range(n_resamples):\n",
    "        \n",
    "        resampled_idx = np.random.choice(idx, size=size, replace=True)   # resample indices with replacement\n",
    "        \n",
    "        resampled_x_n, resampled_y_n = x[resampled_idx], y[resampled_idx] # get resampled values of x & y \n",
    "        \n",
    "        corr_n, _ = spearmanr(resampled_x_n, resampled_y_n) # correlation of resampled values (ignore p-value)\n",
    "        \n",
    "        resampled_x.append(resampled_x_n); resampled_y.append(resampled_y_n) # storing resampled vectors\n",
    "\n",
    "        resampled_spearman_r.append(corr_n) # storing correlation of resampled values\n",
    "    \n",
    "    return resampled_x, resampled_y, resampled_spearman_r"
   ]
  },
  {
   "cell_type": "code",
   "execution_count": 32,
   "metadata": {},
   "outputs": [],
   "source": [
    "def viz_percentiles(resampled_metrics, ci = 95):\n",
    "    \n",
    "    sorted_resampled_metrics = np.sort(resampled_metrics)\n",
    "\n",
    "    lw = 2; font_scale = 1.5\n",
    "    \n",
    "    symmetric_ci = (100 - ci )/ 2 \n",
    "    symmetric_upper_bound, symmetric_lower_bound = 100 - symmetric_ci, symmetric_ci\n",
    "    metric_percentiles = np.percentile(a=sorted_resampled_metrics, q=[symmetric_upper_bound, symmetric_lower_bound])\n",
    "    \n",
    "    mean_metric = np.mean(metric_percentiles)\n",
    "    \n",
    "    sns.set(font_scale=font_scale, style='whitegrid')  \n",
    "\n",
    "    if sns.__version__ == '0.11.2':\n",
    "        sns.histplot(sorted_resampled_metrics)\n",
    "    elif sns.__version__ == '0.9.0':\n",
    "        sns.distplot(sorted_resampled_metrics)\n",
    "        \n",
    "    plt.axvline(metric_percentiles[0], color='gray',linewidth=lw)\n",
    "    plt.axvline(metric_percentiles[1], color='gray', linewidth=lw)\n",
    "    plt.axvline(mean_metric, color='gray', linewidth=lw)\n",
    "    sns.despine()\n",
    "    \n",
    "    return metric_percentiles, mean_metric"
   ]
  },
  {
   "cell_type": "code",
   "execution_count": 43,
   "metadata": {},
   "outputs": [],
   "source": [
    "x,y = ls_df_pared.cpp, ls_df_pared.ideal_B\n",
    "resampled_x, resampled_y, resampled_spearman_r = pairwise_percentile_bootstrap(x,y)"
   ]
  },
  {
   "cell_type": "code",
   "execution_count": 44,
   "metadata": {},
   "outputs": [
    {
     "data": {
      "text/plain": [
       "Text(0.5,0,\"Spearman's $\\\\rho_{B\\\\Omega}$\")"
      ]
     },
     "execution_count": 44,
     "metadata": {},
     "output_type": "execute_result"
    },
    {
     "data": {
      "image/png": "[encoded data removed]",
      "text/plain": [
       "<Figure size 432x288 with 1 Axes>"
      ]
     },
     "metadata": {},
     "output_type": "display_data"
    }
   ],
   "source": [
    "metric_percentiles, mean_metric = viz_percentiles(resampled_spearman_r)\n",
    "plt.xlabel(r\"Spearman's $\\rho_{B\\Omega}$\")"
   ]
  },
  {
   "cell_type": "code",
   "execution_count": 45,
   "metadata": {},
   "outputs": [
    {
     "data": {
      "text/plain": [
       "(array([-0.205, -0.263]), -0.234)"
      ]
     },
     "execution_count": 45,
     "metadata": {},
     "output_type": "execute_result"
    }
   ],
   "source": [
    "np.round(metric_percentiles,3),  np.round(mean_metric,3)"
   ]
  },
  {
   "cell_type": "code",
   "execution_count": 46,
   "metadata": {},
   "outputs": [
    {
     "data": {
      "text/plain": [
       "-0.029"
      ]
     },
     "execution_count": 46,
     "metadata": {},
     "output_type": "execute_result"
    }
   ],
   "source": [
    "np.round(mean_metric - metric_percentiles[0],3)"
   ]
  },
  {
   "cell_type": "markdown",
   "metadata": {},
   "source": [
    "### Variance Inflation Factor (VIF) & 95% CI"
   ]
  },
  {
   "cell_type": "code",
   "execution_count": 27,
   "metadata": {},
   "outputs": [],
   "source": [
    "def compute_variance_inflation_factor(correlations):\n",
    "\n",
    "    vifs = [(1 / (1 - r**2)) for r in correlations]\n",
    "\n",
    "    return vifs"
   ]
  },
  {
   "cell_type": "code",
   "execution_count": 28,
   "metadata": {},
   "outputs": [],
   "source": [
    "vifs = compute_variance_inflation_factor(resampled_spearman_r)"
   ]
  },
  {
   "cell_type": "code",
   "execution_count": 35,
   "metadata": {},
   "outputs": [
    {
     "data": {
      "text/plain": [
       "Text(0.5,0,'Variance Inflation Factor (VIF)')"
      ]
     },
     "execution_count": 35,
     "metadata": {},
     "output_type": "execute_result"
    },
    {
     "data": {
      "image/png": "[encoded data removed]",
      "text/plain": [
       "<Figure size 432x288 with 1 Axes>"
      ]
     },
     "metadata": {},
     "output_type": "display_data"
    }
   ],
   "source": [
    "metric_percentiles, mean_metric = viz_percentiles(vifs)\n",
    "plt.xlabel(\"Variance Inflation Factor (VIF)\")"
   ]
  },
  {
   "cell_type": "code",
   "execution_count": 41,
   "metadata": {},
   "outputs": [
    {
     "data": {
      "text/plain": [
       "(array([-0.202, -0.262]), -0.232)"
      ]
     },
     "execution_count": 41,
     "metadata": {},
     "output_type": "execute_result"
    }
   ],
   "source": [
    "np.round(metric_percentiles,3),  np.round(mean_metric,3)"
   ]
  },
  {
   "cell_type": "code",
   "execution_count": 42,
   "metadata": {},
   "outputs": [
    {
     "data": {
      "text/plain": [
       "-0.03"
      ]
     },
     "execution_count": 42,
     "metadata": {},
     "output_type": "execute_result"
    }
   ],
   "source": [
    "np.round(mean_metric - metric_percentiles[0],3)"
   ]
  },
  {
   "cell_type": "code",
   "execution_count": null,
   "metadata": {},
   "outputs": [],
   "source": []
  }
 ],
 "metadata": {
  "kernelspec": {
   "display_name": "Python 2",
   "language": "python",
   "name": "python2"
  },
  "language_info": {
   "codemirror_mode": {
    "name": "ipython",
    "version": 2
   },
   "file_extension": ".py",
   "mimetype": "text/x-python",
   "name": "python",
   "nbconvert_exporter": "python",
   "pygments_lexer": "ipython2",
   "version": "2.7.18"
  }
 },
 "nbformat": 4,
 "nbformat_minor": 4
}
