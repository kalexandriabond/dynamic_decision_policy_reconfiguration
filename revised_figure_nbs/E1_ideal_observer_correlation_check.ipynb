{
 "cells": [
  {
   "cell_type": "code",
   "execution_count": 69,
   "metadata": {},
   "outputs": [],
   "source": [
    "import pandas as pd; import matplotlib.pyplot as plt; import seaborn as sns; import os; \n",
    "from sys import platform; import numpy as np; from scipy.stats import spearmanr;\n",
    "\n",
    "from random import seed\n",
    "\n",
    "%matplotlib inline"
   ]
  },
  {
   "cell_type": "code",
   "execution_count": 70,
   "metadata": {},
   "outputs": [],
   "source": [
    "home = os.path.expanduser('/lab_data/coaxlab/Projects'); data_dir = os.path.join(home, 'dynamic_decision_policy_reconfiguration/aggregated_data/loki_0')\n",
    "\n",
    "ls_df = pd.read_csv(os.path.join(data_dir, 'av_est.csv'))"
   ]
  },
  {
   "cell_type": "code",
   "execution_count": 71,
   "metadata": {},
   "outputs": [
    {
     "data": {
      "text/plain": [
       "Index([u'subj_id', u'experiment', u'condition', u'trial',\n",
       "       u'shifted_epoch_trial', u'cp_with_slow_fast', u'obs_cp_with_slow_fast',\n",
       "       u'p_id_accuracy', u'rt', u'lr_choice', u'lr_solution', u'cue_choice',\n",
       "       u'high_p_cue', u'low_p_cue', u'high_val_cue', u'low_val_cue',\n",
       "       u'obs_accuracy', u'reward', u'cumulative_reward', u'iti',\n",
       "       u'total_trial_time', u'epoch_number', u'epoch_trial', u'n_epoch_trials',\n",
       "       u'prop_112', u'cpp', u'ideal_B', u'target_B', u'v_est', u'a_est',\n",
       "       u'a_est_z', u'v_est_z', u'lambda_val', u'p_optimal',\n",
       "       u'epoch_window_number', u'r_z', u'theta_radians_z', u'theta_deg_z'],\n",
       "      dtype='object')"
      ]
     },
     "execution_count": 71,
     "metadata": {},
     "output_type": "execute_result"
    }
   ],
   "source": [
    "ls_df.head(); ls_df.columns"
   ]
  },
  {
   "cell_type": "code",
   "execution_count": 72,
   "metadata": {},
   "outputs": [],
   "source": [
    "ls_df_pared = ls_df.loc[(ls_df.shifted_epoch_trial >= -1) & (ls_df.shifted_epoch_trial <= 3)].reset_index(drop=True)"
   ]
  },
  {
   "cell_type": "markdown",
   "metadata": {},
   "source": [
    "## Quantifying the correlation between $\\Delta B$ and $\\Omega$"
   ]
  },
  {
   "cell_type": "code",
   "execution_count": 73,
   "metadata": {},
   "outputs": [
    {
     "data": {
      "text/html": [
       "<div>\n",
       "<style scoped>\n",
       "    .dataframe tbody tr th:only-of-type {\n",
       "        vertical-align: middle;\n",
       "    }\n",
       "\n",
       "    .dataframe tbody tr th {\n",
       "        vertical-align: top;\n",
       "    }\n",
       "\n",
       "    .dataframe thead th {\n",
       "        text-align: right;\n",
       "    }\n",
       "</style>\n",
       "<table border=\"1\" class=\"dataframe\">\n",
       "  <thead>\n",
       "    <tr style=\"text-align: right;\">\n",
       "      <th></th>\n",
       "      <th></th>\n",
       "      <th>ideal_B</th>\n",
       "      <th>cpp</th>\n",
       "    </tr>\n",
       "    <tr>\n",
       "      <th>subj_id</th>\n",
       "      <th></th>\n",
       "      <th></th>\n",
       "      <th></th>\n",
       "    </tr>\n",
       "  </thead>\n",
       "  <tbody>\n",
       "    <tr>\n",
       "      <th rowspan=\"2\" valign=\"top\">761</th>\n",
       "      <th>ideal_B</th>\n",
       "      <td>1.000000</td>\n",
       "      <td>-0.281226</td>\n",
       "    </tr>\n",
       "    <tr>\n",
       "      <th>cpp</th>\n",
       "      <td>-0.281226</td>\n",
       "      <td>1.000000</td>\n",
       "    </tr>\n",
       "    <tr>\n",
       "      <th rowspan=\"2\" valign=\"top\">762</th>\n",
       "      <th>ideal_B</th>\n",
       "      <td>1.000000</td>\n",
       "      <td>-0.264461</td>\n",
       "    </tr>\n",
       "    <tr>\n",
       "      <th>cpp</th>\n",
       "      <td>-0.264461</td>\n",
       "      <td>1.000000</td>\n",
       "    </tr>\n",
       "    <tr>\n",
       "      <th rowspan=\"2\" valign=\"top\">763</th>\n",
       "      <th>ideal_B</th>\n",
       "      <td>1.000000</td>\n",
       "      <td>-0.329934</td>\n",
       "    </tr>\n",
       "    <tr>\n",
       "      <th>cpp</th>\n",
       "      <td>-0.329934</td>\n",
       "      <td>1.000000</td>\n",
       "    </tr>\n",
       "    <tr>\n",
       "      <th rowspan=\"2\" valign=\"top\">764</th>\n",
       "      <th>ideal_B</th>\n",
       "      <td>1.000000</td>\n",
       "      <td>-0.286430</td>\n",
       "    </tr>\n",
       "    <tr>\n",
       "      <th>cpp</th>\n",
       "      <td>-0.286430</td>\n",
       "      <td>1.000000</td>\n",
       "    </tr>\n",
       "    <tr>\n",
       "      <th rowspan=\"2\" valign=\"top\">765</th>\n",
       "      <th>ideal_B</th>\n",
       "      <td>1.000000</td>\n",
       "      <td>-0.195993</td>\n",
       "    </tr>\n",
       "    <tr>\n",
       "      <th>cpp</th>\n",
       "      <td>-0.195993</td>\n",
       "      <td>1.000000</td>\n",
       "    </tr>\n",
       "    <tr>\n",
       "      <th rowspan=\"2\" valign=\"top\">766</th>\n",
       "      <th>ideal_B</th>\n",
       "      <td>1.000000</td>\n",
       "      <td>-0.272871</td>\n",
       "    </tr>\n",
       "    <tr>\n",
       "      <th>cpp</th>\n",
       "      <td>-0.272871</td>\n",
       "      <td>1.000000</td>\n",
       "    </tr>\n",
       "    <tr>\n",
       "      <th rowspan=\"2\" valign=\"top\">767</th>\n",
       "      <th>ideal_B</th>\n",
       "      <td>1.000000</td>\n",
       "      <td>-0.329532</td>\n",
       "    </tr>\n",
       "    <tr>\n",
       "      <th>cpp</th>\n",
       "      <td>-0.329532</td>\n",
       "      <td>1.000000</td>\n",
       "    </tr>\n",
       "    <tr>\n",
       "      <th rowspan=\"2\" valign=\"top\">768</th>\n",
       "      <th>ideal_B</th>\n",
       "      <td>1.000000</td>\n",
       "      <td>-0.230054</td>\n",
       "    </tr>\n",
       "    <tr>\n",
       "      <th>cpp</th>\n",
       "      <td>-0.230054</td>\n",
       "      <td>1.000000</td>\n",
       "    </tr>\n",
       "    <tr>\n",
       "      <th rowspan=\"2\" valign=\"top\">769</th>\n",
       "      <th>ideal_B</th>\n",
       "      <td>1.000000</td>\n",
       "      <td>-0.403046</td>\n",
       "    </tr>\n",
       "    <tr>\n",
       "      <th>cpp</th>\n",
       "      <td>-0.403046</td>\n",
       "      <td>1.000000</td>\n",
       "    </tr>\n",
       "    <tr>\n",
       "      <th rowspan=\"2\" valign=\"top\">770</th>\n",
       "      <th>ideal_B</th>\n",
       "      <td>1.000000</td>\n",
       "      <td>-0.254876</td>\n",
       "    </tr>\n",
       "    <tr>\n",
       "      <th>cpp</th>\n",
       "      <td>-0.254876</td>\n",
       "      <td>1.000000</td>\n",
       "    </tr>\n",
       "    <tr>\n",
       "      <th rowspan=\"2\" valign=\"top\">771</th>\n",
       "      <th>ideal_B</th>\n",
       "      <td>1.000000</td>\n",
       "      <td>-0.283504</td>\n",
       "    </tr>\n",
       "    <tr>\n",
       "      <th>cpp</th>\n",
       "      <td>-0.283504</td>\n",
       "      <td>1.000000</td>\n",
       "    </tr>\n",
       "    <tr>\n",
       "      <th rowspan=\"2\" valign=\"top\">772</th>\n",
       "      <th>ideal_B</th>\n",
       "      <td>1.000000</td>\n",
       "      <td>-0.290625</td>\n",
       "    </tr>\n",
       "    <tr>\n",
       "      <th>cpp</th>\n",
       "      <td>-0.290625</td>\n",
       "      <td>1.000000</td>\n",
       "    </tr>\n",
       "    <tr>\n",
       "      <th rowspan=\"2\" valign=\"top\">773</th>\n",
       "      <th>ideal_B</th>\n",
       "      <td>1.000000</td>\n",
       "      <td>-0.247631</td>\n",
       "    </tr>\n",
       "    <tr>\n",
       "      <th>cpp</th>\n",
       "      <td>-0.247631</td>\n",
       "      <td>1.000000</td>\n",
       "    </tr>\n",
       "    <tr>\n",
       "      <th rowspan=\"2\" valign=\"top\">774</th>\n",
       "      <th>ideal_B</th>\n",
       "      <td>1.000000</td>\n",
       "      <td>-0.304865</td>\n",
       "    </tr>\n",
       "    <tr>\n",
       "      <th>cpp</th>\n",
       "      <td>-0.304865</td>\n",
       "      <td>1.000000</td>\n",
       "    </tr>\n",
       "    <tr>\n",
       "      <th rowspan=\"2\" valign=\"top\">775</th>\n",
       "      <th>ideal_B</th>\n",
       "      <td>1.000000</td>\n",
       "      <td>-0.341254</td>\n",
       "    </tr>\n",
       "    <tr>\n",
       "      <th>cpp</th>\n",
       "      <td>-0.341254</td>\n",
       "      <td>1.000000</td>\n",
       "    </tr>\n",
       "    <tr>\n",
       "      <th rowspan=\"2\" valign=\"top\">776</th>\n",
       "      <th>ideal_B</th>\n",
       "      <td>1.000000</td>\n",
       "      <td>-0.358254</td>\n",
       "    </tr>\n",
       "    <tr>\n",
       "      <th>cpp</th>\n",
       "      <td>-0.358254</td>\n",
       "      <td>1.000000</td>\n",
       "    </tr>\n",
       "    <tr>\n",
       "      <th rowspan=\"2\" valign=\"top\">777</th>\n",
       "      <th>ideal_B</th>\n",
       "      <td>1.000000</td>\n",
       "      <td>-0.353957</td>\n",
       "    </tr>\n",
       "    <tr>\n",
       "      <th>cpp</th>\n",
       "      <td>-0.353957</td>\n",
       "      <td>1.000000</td>\n",
       "    </tr>\n",
       "    <tr>\n",
       "      <th rowspan=\"2\" valign=\"top\">778</th>\n",
       "      <th>ideal_B</th>\n",
       "      <td>1.000000</td>\n",
       "      <td>-0.284264</td>\n",
       "    </tr>\n",
       "    <tr>\n",
       "      <th>cpp</th>\n",
       "      <td>-0.284264</td>\n",
       "      <td>1.000000</td>\n",
       "    </tr>\n",
       "    <tr>\n",
       "      <th rowspan=\"2\" valign=\"top\">779</th>\n",
       "      <th>ideal_B</th>\n",
       "      <td>1.000000</td>\n",
       "      <td>-0.334026</td>\n",
       "    </tr>\n",
       "    <tr>\n",
       "      <th>cpp</th>\n",
       "      <td>-0.334026</td>\n",
       "      <td>1.000000</td>\n",
       "    </tr>\n",
       "    <tr>\n",
       "      <th rowspan=\"2\" valign=\"top\">780</th>\n",
       "      <th>ideal_B</th>\n",
       "      <td>1.000000</td>\n",
       "      <td>-0.312751</td>\n",
       "    </tr>\n",
       "    <tr>\n",
       "      <th>cpp</th>\n",
       "      <td>-0.312751</td>\n",
       "      <td>1.000000</td>\n",
       "    </tr>\n",
       "    <tr>\n",
       "      <th rowspan=\"2\" valign=\"top\">781</th>\n",
       "      <th>ideal_B</th>\n",
       "      <td>1.000000</td>\n",
       "      <td>-0.316240</td>\n",
       "    </tr>\n",
       "    <tr>\n",
       "      <th>cpp</th>\n",
       "      <td>-0.316240</td>\n",
       "      <td>1.000000</td>\n",
       "    </tr>\n",
       "    <tr>\n",
       "      <th rowspan=\"2\" valign=\"top\">782</th>\n",
       "      <th>ideal_B</th>\n",
       "      <td>1.000000</td>\n",
       "      <td>-0.357865</td>\n",
       "    </tr>\n",
       "    <tr>\n",
       "      <th>cpp</th>\n",
       "      <td>-0.357865</td>\n",
       "      <td>1.000000</td>\n",
       "    </tr>\n",
       "    <tr>\n",
       "      <th rowspan=\"2\" valign=\"top\">783</th>\n",
       "      <th>ideal_B</th>\n",
       "      <td>1.000000</td>\n",
       "      <td>-0.247765</td>\n",
       "    </tr>\n",
       "    <tr>\n",
       "      <th>cpp</th>\n",
       "      <td>-0.247765</td>\n",
       "      <td>1.000000</td>\n",
       "    </tr>\n",
       "    <tr>\n",
       "      <th rowspan=\"2\" valign=\"top\">784</th>\n",
       "      <th>ideal_B</th>\n",
       "      <td>1.000000</td>\n",
       "      <td>-0.385575</td>\n",
       "    </tr>\n",
       "    <tr>\n",
       "      <th>cpp</th>\n",
       "      <td>-0.385575</td>\n",
       "      <td>1.000000</td>\n",
       "    </tr>\n",
       "  </tbody>\n",
       "</table>\n",
       "</div>"
      ],
      "text/plain": [
       "                  ideal_B       cpp\n",
       "subj_id                            \n",
       "761     ideal_B  1.000000 -0.281226\n",
       "        cpp     -0.281226  1.000000\n",
       "762     ideal_B  1.000000 -0.264461\n",
       "        cpp     -0.264461  1.000000\n",
       "763     ideal_B  1.000000 -0.329934\n",
       "        cpp     -0.329934  1.000000\n",
       "764     ideal_B  1.000000 -0.286430\n",
       "        cpp     -0.286430  1.000000\n",
       "765     ideal_B  1.000000 -0.195993\n",
       "        cpp     -0.195993  1.000000\n",
       "766     ideal_B  1.000000 -0.272871\n",
       "        cpp     -0.272871  1.000000\n",
       "767     ideal_B  1.000000 -0.329532\n",
       "        cpp     -0.329532  1.000000\n",
       "768     ideal_B  1.000000 -0.230054\n",
       "        cpp     -0.230054  1.000000\n",
       "769     ideal_B  1.000000 -0.403046\n",
       "        cpp     -0.403046  1.000000\n",
       "770     ideal_B  1.000000 -0.254876\n",
       "        cpp     -0.254876  1.000000\n",
       "771     ideal_B  1.000000 -0.283504\n",
       "        cpp     -0.283504  1.000000\n",
       "772     ideal_B  1.000000 -0.290625\n",
       "        cpp     -0.290625  1.000000\n",
       "773     ideal_B  1.000000 -0.247631\n",
       "        cpp     -0.247631  1.000000\n",
       "774     ideal_B  1.000000 -0.304865\n",
       "        cpp     -0.304865  1.000000\n",
       "775     ideal_B  1.000000 -0.341254\n",
       "        cpp     -0.341254  1.000000\n",
       "776     ideal_B  1.000000 -0.358254\n",
       "        cpp     -0.358254  1.000000\n",
       "777     ideal_B  1.000000 -0.353957\n",
       "        cpp     -0.353957  1.000000\n",
       "778     ideal_B  1.000000 -0.284264\n",
       "        cpp     -0.284264  1.000000\n",
       "779     ideal_B  1.000000 -0.334026\n",
       "        cpp     -0.334026  1.000000\n",
       "780     ideal_B  1.000000 -0.312751\n",
       "        cpp     -0.312751  1.000000\n",
       "781     ideal_B  1.000000 -0.316240\n",
       "        cpp     -0.316240  1.000000\n",
       "782     ideal_B  1.000000 -0.357865\n",
       "        cpp     -0.357865  1.000000\n",
       "783     ideal_B  1.000000 -0.247765\n",
       "        cpp     -0.247765  1.000000\n",
       "784     ideal_B  1.000000 -0.385575\n",
       "        cpp     -0.385575  1.000000"
      ]
     },
     "execution_count": 73,
     "metadata": {},
     "output_type": "execute_result"
    }
   ],
   "source": [
    "ls_df_pared.groupby(['subj_id'])[['ideal_B', 'cpp']].corr(method='spearman') # subject-wise correlation "
   ]
  },
  {
   "cell_type": "code",
   "execution_count": 36,
   "metadata": {},
   "outputs": [
    {
     "data": {
      "text/html": [
       "<div>\n",
       "<style scoped>\n",
       "    .dataframe tbody tr th:only-of-type {\n",
       "        vertical-align: middle;\n",
       "    }\n",
       "\n",
       "    .dataframe tbody tr th {\n",
       "        vertical-align: top;\n",
       "    }\n",
       "\n",
       "    .dataframe thead th {\n",
       "        text-align: right;\n",
       "    }\n",
       "</style>\n",
       "<table border=\"1\" class=\"dataframe\">\n",
       "  <thead>\n",
       "    <tr style=\"text-align: right;\">\n",
       "      <th></th>\n",
       "      <th>ideal_B</th>\n",
       "      <th>cpp</th>\n",
       "    </tr>\n",
       "  </thead>\n",
       "  <tbody>\n",
       "    <tr>\n",
       "      <th>ideal_B</th>\n",
       "      <td>1.000000</td>\n",
       "      <td>-0.301221</td>\n",
       "    </tr>\n",
       "    <tr>\n",
       "      <th>cpp</th>\n",
       "      <td>-0.301221</td>\n",
       "      <td>1.000000</td>\n",
       "    </tr>\n",
       "  </tbody>\n",
       "</table>\n",
       "</div>"
      ],
      "text/plain": [
       "          ideal_B       cpp\n",
       "ideal_B  1.000000 -0.301221\n",
       "cpp     -0.301221  1.000000"
      ]
     },
     "execution_count": 36,
     "metadata": {},
     "output_type": "execute_result"
    }
   ],
   "source": [
    "ls_df_pared[['ideal_B', 'cpp']].corr(method='spearman') # pooled correlation"
   ]
  },
  {
   "cell_type": "markdown",
   "metadata": {},
   "source": [
    "## An estimate of confidence "
   ]
  },
  {
   "cell_type": "markdown",
   "metadata": {},
   "source": [
    "### percentile bootstrap of the correlations (95% CI)"
   ]
  },
  {
   "cell_type": "code",
   "execution_count": 37,
   "metadata": {},
   "outputs": [],
   "source": [
    "def pairwise_percentile_bootstrap(x, y, n_resamples=1000, func=spearmanr):\n",
    "    \n",
    "    idx = np.arange(len(x))\n",
    "    size = len(idx)\n",
    "    \n",
    "    resampled_x, resampled_y = list(), list()\n",
    "    \n",
    "    resampled_spearman_r = list() \n",
    "    \n",
    "    for n in range(n_resamples):\n",
    "        \n",
    "        resampled_idx = np.random.choice(idx, size=size, replace=True)   # resample indices with replacement\n",
    "        \n",
    "        resampled_x_n, resampled_y_n = x[resampled_idx], y[resampled_idx] # get resampled values of x & y \n",
    "        \n",
    "        corr_n, _ = spearmanr(resampled_x_n, resampled_y_n) # correlation of resampled values (ignore p-value)\n",
    "        \n",
    "        resampled_x.append(resampled_x_n); resampled_y.append(resampled_y_n) # storing resampled vectors\n",
    "\n",
    "        resampled_spearman_r.append(corr_n) # storing correlation of resampled values\n",
    "    \n",
    "    return resampled_x, resampled_y, resampled_spearman_r"
   ]
  },
  {
   "cell_type": "code",
   "execution_count": 79,
   "metadata": {},
   "outputs": [],
   "source": [
    "def viz_percentiles(resampled_metrics, ci = 95):\n",
    "    \n",
    "    sorted_resampled_metrics = np.sort(resampled_metrics)\n",
    "\n",
    "    lw = 2; font_scale = 1.5\n",
    "    \n",
    "    symmetric_ci = (100 - ci )/ 2 \n",
    "    symmetric_upper_bound, symmetric_lower_bound = 100 - symmetric_ci, symmetric_ci\n",
    "    metric_percentiles = np.percentile(a=sorted_resampled_metrics, q=[symmetric_upper_bound, symmetric_lower_bound])\n",
    "    \n",
    "    mean_metric = np.mean(metric_percentiles)\n",
    "    \n",
    "    sns.set(font_scale=font_scale, style='whitegrid')  \n",
    "    \n",
    "    if sns.__version__ == '0.11.2':\n",
    "        sns.histplot(sorted_resampled_metrics)\n",
    "    elif sns.__version__ == '0.9.0':\n",
    "        sns.distplot(sorted_resampled_metrics)\n",
    "        \n",
    "    plt.axvline(metric_percentiles[0], color='gray',linewidth=lw)\n",
    "    plt.axvline(metric_percentiles[1], color='gray', linewidth=lw)\n",
    "    plt.axvline(mean_metric, color='gray', linewidth=lw)\n",
    "    sns.despine()\n",
    "    \n",
    "    return metric_percentiles, mean_metric"
   ]
  },
  {
   "cell_type": "code",
   "execution_count": 39,
   "metadata": {},
   "outputs": [],
   "source": [
    "x,y = ls_df_pared.cpp, ls_df_pared.ideal_B\n",
    "resampled_x, resampled_y, resampled_spearman_r = pairwise_percentile_bootstrap(x,y)"
   ]
  },
  {
   "cell_type": "code",
   "execution_count": 80,
   "metadata": {},
   "outputs": [
    {
     "data": {
      "text/plain": [
       "Text(0.5,0,\"Spearman's $\\\\rho_{B\\\\Omega}$\")"
      ]
     },
     "execution_count": 80,
     "metadata": {},
     "output_type": "execute_result"
    },
    {
     "data": {
      "image/png": "[encoded data removed]",
      "text/plain": [
       "<Figure size 432x288 with 1 Axes>"
      ]
     },
     "metadata": {},
     "output_type": "display_data"
    }
   ],
   "source": [
    "metric_percentiles, mean_metric = viz_percentiles(resampled_spearman_r)\n",
    "plt.xlabel(r\"Spearman's $\\rho_{B\\Omega}$\")"
   ]
  },
  {
   "cell_type": "markdown",
   "metadata": {},
   "source": [
    "### Variance Inflation Factor (VIF) & 95% CI"
   ]
  },
  {
   "cell_type": "code",
   "execution_count": 81,
   "metadata": {},
   "outputs": [],
   "source": [
    "def compute_variance_inflation_factor(correlations):\n",
    "\n",
    "    vifs = [(1 / (1 - r**2)) for r in correlations]\n",
    "\n",
    "    return vifs"
   ]
  },
  {
   "cell_type": "code",
   "execution_count": 42,
   "metadata": {},
   "outputs": [],
   "source": [
    "vifs = compute_variance_inflation_factor(resampled_spearman_r)"
   ]
  },
  {
   "cell_type": "code",
   "execution_count": 78,
   "metadata": {},
   "outputs": [
    {
     "data": {
      "text/plain": [
       "1.1"
      ]
     },
     "execution_count": 78,
     "metadata": {},
     "output_type": "execute_result"
    }
   ],
   "source": [
    "np.round(np.mean(vifs),3)"
   ]
  },
  {
   "cell_type": "code",
   "execution_count": 82,
   "metadata": {},
   "outputs": [
    {
     "data": {
      "text/plain": [
       "Text(0.5,0,'Variance Inflation Factor (VIF)')"
      ]
     },
     "execution_count": 82,
     "metadata": {},
     "output_type": "execute_result"
    },
    {
     "data": {
      "image/png": "[encoded data removed]",
      "text/plain": [
       "<Figure size 432x288 with 1 Axes>"
      ]
     },
     "metadata": {},
     "output_type": "display_data"
    }
   ],
   "source": [
    "metric_percentiles, mean_metric = viz_percentiles(vifs)\n",
    "plt.xlabel(\"Variance Inflation Factor (VIF)\")"
   ]
  },
  {
   "cell_type": "code",
   "execution_count": 89,
   "metadata": {},
   "outputs": [
    {
     "data": {
      "text/plain": [
       "(array([1.113, 1.086]), 1.1)"
      ]
     },
     "execution_count": 89,
     "metadata": {},
     "output_type": "execute_result"
    }
   ],
   "source": [
    "np.round(metric_percentiles,3),  np.round(mean_metric,3)"
   ]
  },
  {
   "cell_type": "code",
   "execution_count": 90,
   "metadata": {},
   "outputs": [
    {
     "data": {
      "text/plain": [
       "-0.013"
      ]
     },
     "execution_count": 90,
     "metadata": {},
     "output_type": "execute_result"
    }
   ],
   "source": [
    "np.round(mean_metric - metric_percentiles[0],3)"
   ]
  }
 ],
 "metadata": {
  "kernelspec": {
   "display_name": "Python 2",
   "language": "python",
   "name": "python2"
  },
  "language_info": {
   "codemirror_mode": {
    "name": "ipython",
    "version": 2
   },
   "file_extension": ".py",
   "mimetype": "text/x-python",
   "name": "python",
   "nbconvert_exporter": "python",
   "pygments_lexer": "ipython2",
   "version": "2.7.18"
  }
 },
 "nbformat": 4,
 "nbformat_minor": 4
}
